{
 "cells": [
  {
   "cell_type": "markdown",
   "id": "c31a5943",
   "metadata": {
    "papermill": {
     "duration": 0.013415,
     "end_time": "2022-09-18T20:56:00.485748",
     "exception": false,
     "start_time": "2022-09-18T20:56:00.472333",
     "status": "completed"
    },
    "tags": []
   },
   "source": [
    "## Sentiment Analysis\n",
    "\n",
    "One of the most popular applications of NLP, sentiment analysis is of great significance in Data Analytics. It helps organizations study and analyse the impact and influence of thier products/services. <br>\n",
    "A basic task in sentiment analysis is classifying the polarity of a given text at the document, sentence, or feature/aspect level—whether the expressed opinion in a document, a sentence or an entity feature/aspect is **positive**, **negative**, or **neutral**."
   ]
  },
  {
   "cell_type": "code",
   "execution_count": 1,
   "id": "ae7a6160",
   "metadata": {
    "_cell_guid": "b1076dfc-b9ad-4769-8c92-a6c4dae69d19",
    "_uuid": "8f2839f25d086af736a60e9eeb907d3b93b6e0e5",
    "execution": {
     "iopub.execute_input": "2022-09-18T20:56:00.512754Z",
     "iopub.status.busy": "2022-09-18T20:56:00.511569Z",
     "iopub.status.idle": "2022-09-18T20:56:03.075976Z",
     "shell.execute_reply": "2022-09-18T20:56:03.074027Z"
    },
    "papermill": {
     "duration": 2.581825,
     "end_time": "2022-09-18T20:56:03.079387",
     "exception": false,
     "start_time": "2022-09-18T20:56:00.497562",
     "status": "completed"
    },
    "tags": []
   },
   "outputs": [],
   "source": [
    "import numpy as np\n",
    "import pandas as pd\n",
    "import matplotlib.pyplot as plt\n",
    "import seaborn as sns\n",
    "\n",
    "import string\n",
    "import nltk\n",
    "from nltk import tokenize\n",
    "from nltk.corpus import stopwords\n",
    "from nltk.stem import WordNetLemmatizer\n",
    "\n",
    "from sklearn.feature_extraction.text import CountVectorizer, TfidfVectorizer\n",
    "from sklearn.model_selection import train_test_split\n",
    "from sklearn.preprocessing import LabelEncoder\n",
    "from sklearn.ensemble import RandomForestClassifier\n",
    "from sklearn.naive_bayes import MultinomialNB\n",
    "from sklearn.metrics import accuracy_score,precision_score,recall_score,confusion_matrix,roc_curve,classification_report\n",
    "from scikitplot.metrics import plot_confusion_matrix"
   ]
  },
  {
   "cell_type": "markdown",
   "id": "78f2a215",
   "metadata": {
    "papermill": {
     "duration": 0.013884,
     "end_time": "2022-09-18T20:56:03.109950",
     "exception": false,
     "start_time": "2022-09-18T20:56:03.096066",
     "status": "completed"
    },
    "tags": []
   },
   "source": [
    "## Setup"
   ]
  },
  {
   "cell_type": "code",
   "execution_count": 2,
   "id": "f747320e",
   "metadata": {
    "execution": {
     "iopub.execute_input": "2022-09-18T20:56:03.137937Z",
     "iopub.status.busy": "2022-09-18T20:56:03.137159Z",
     "iopub.status.idle": "2022-09-18T20:56:03.142075Z",
     "shell.execute_reply": "2022-09-18T20:56:03.140910Z"
    },
    "papermill": {
     "duration": 0.021193,
     "end_time": "2022-09-18T20:56:03.144824",
     "exception": false,
     "start_time": "2022-09-18T20:56:03.123631",
     "status": "completed"
    },
    "tags": []
   },
   "outputs": [],
   "source": [
    "import warnings\n",
    "warnings.filterwarnings('ignore')"
   ]
  },
  {
   "cell_type": "code",
   "execution_count": 3,
   "id": "05f8f462",
   "metadata": {
    "execution": {
     "iopub.execute_input": "2022-09-18T20:56:03.171695Z",
     "iopub.status.busy": "2022-09-18T20:56:03.171165Z",
     "iopub.status.idle": "2022-09-18T20:56:03.178851Z",
     "shell.execute_reply": "2022-09-18T20:56:03.177399Z"
    },
    "papermill": {
     "duration": 0.025199,
     "end_time": "2022-09-18T20:56:03.182211",
     "exception": false,
     "start_time": "2022-09-18T20:56:03.157012",
     "status": "completed"
    },
    "tags": []
   },
   "outputs": [],
   "source": [
    "sns.set_style('darkgrid')\n",
    "plt.rcParams['figure.figsize'] = (10,7)\n",
    "plt.rcParams['font.size'] = 18"
   ]
  },
  {
   "cell_type": "code",
   "execution_count": 4,
   "id": "387b918d",
   "metadata": {
    "execution": {
     "iopub.execute_input": "2022-09-18T20:56:03.209688Z",
     "iopub.status.busy": "2022-09-18T20:56:03.209226Z",
     "iopub.status.idle": "2022-09-18T20:56:04.180564Z",
     "shell.execute_reply": "2022-09-18T20:56:04.179401Z"
    },
    "papermill": {
     "duration": 0.988098,
     "end_time": "2022-09-18T20:56:04.183169",
     "exception": false,
     "start_time": "2022-09-18T20:56:03.195071",
     "status": "completed"
    },
    "tags": []
   },
   "outputs": [
    {
     "name": "stderr",
     "output_type": "stream",
     "text": [
      "[nltk_data] Downloading package omw-1.4 to /usr/share/nltk_data...\n"
     ]
    },
    {
     "data": {
      "text/plain": [
       "True"
      ]
     },
     "execution_count": 4,
     "metadata": {},
     "output_type": "execute_result"
    }
   ],
   "source": [
    "import nltk\n",
    "nltk.download('omw-1.4')"
   ]
  },
  {
   "cell_type": "markdown",
   "id": "ae068bf9",
   "metadata": {
    "papermill": {
     "duration": 0.011071,
     "end_time": "2022-09-18T20:56:04.205974",
     "exception": false,
     "start_time": "2022-09-18T20:56:04.194903",
     "status": "completed"
    },
    "tags": []
   },
   "source": [
    "## Loading the Data"
   ]
  },
  {
   "cell_type": "code",
   "execution_count": 5,
   "id": "9dfd7601",
   "metadata": {
    "execution": {
     "iopub.execute_input": "2022-09-18T20:56:04.231460Z",
     "iopub.status.busy": "2022-09-18T20:56:04.231031Z",
     "iopub.status.idle": "2022-09-18T20:56:04.810425Z",
     "shell.execute_reply": "2022-09-18T20:56:04.809343Z"
    },
    "papermill": {
     "duration": 0.595052,
     "end_time": "2022-09-18T20:56:04.813062",
     "exception": false,
     "start_time": "2022-09-18T20:56:04.218010",
     "status": "completed"
    },
    "tags": []
   },
   "outputs": [
    {
     "data": {
      "text/html": [
       "<div>\n",
       "<style scoped>\n",
       "    .dataframe tbody tr th:only-of-type {\n",
       "        vertical-align: middle;\n",
       "    }\n",
       "\n",
       "    .dataframe tbody tr th {\n",
       "        vertical-align: top;\n",
       "    }\n",
       "\n",
       "    .dataframe thead th {\n",
       "        text-align: right;\n",
       "    }\n",
       "</style>\n",
       "<table border=\"1\" class=\"dataframe\">\n",
       "  <thead>\n",
       "    <tr style=\"text-align: right;\">\n",
       "      <th></th>\n",
       "      <th>Time_submitted</th>\n",
       "      <th>Review</th>\n",
       "      <th>Rating</th>\n",
       "      <th>Total_thumbsup</th>\n",
       "      <th>Reply</th>\n",
       "    </tr>\n",
       "  </thead>\n",
       "  <tbody>\n",
       "    <tr>\n",
       "      <th>0</th>\n",
       "      <td>2022-07-09 15:00:00</td>\n",
       "      <td>Great music service, the audio is high quality...</td>\n",
       "      <td>5</td>\n",
       "      <td>2</td>\n",
       "      <td>NaN</td>\n",
       "    </tr>\n",
       "    <tr>\n",
       "      <th>1</th>\n",
       "      <td>2022-07-09 14:21:22</td>\n",
       "      <td>Please ignore previous negative rating. This a...</td>\n",
       "      <td>5</td>\n",
       "      <td>1</td>\n",
       "      <td>NaN</td>\n",
       "    </tr>\n",
       "    <tr>\n",
       "      <th>2</th>\n",
       "      <td>2022-07-09 13:27:32</td>\n",
       "      <td>This pop-up \"Get the best Spotify experience o...</td>\n",
       "      <td>4</td>\n",
       "      <td>0</td>\n",
       "      <td>NaN</td>\n",
       "    </tr>\n",
       "    <tr>\n",
       "      <th>3</th>\n",
       "      <td>2022-07-09 13:26:45</td>\n",
       "      <td>Really buggy and terrible to use as of recently</td>\n",
       "      <td>1</td>\n",
       "      <td>1</td>\n",
       "      <td>NaN</td>\n",
       "    </tr>\n",
       "    <tr>\n",
       "      <th>4</th>\n",
       "      <td>2022-07-09 13:20:49</td>\n",
       "      <td>Dear Spotify why do I get songs that I didn't ...</td>\n",
       "      <td>1</td>\n",
       "      <td>1</td>\n",
       "      <td>NaN</td>\n",
       "    </tr>\n",
       "    <tr>\n",
       "      <th>5</th>\n",
       "      <td>2022-07-09 13:20:20</td>\n",
       "      <td>The player controls sometimes disappear for no...</td>\n",
       "      <td>3</td>\n",
       "      <td>7</td>\n",
       "      <td>NaN</td>\n",
       "    </tr>\n",
       "    <tr>\n",
       "      <th>6</th>\n",
       "      <td>2022-07-09 13:19:21</td>\n",
       "      <td>I love the selection and the lyrics are provid...</td>\n",
       "      <td>5</td>\n",
       "      <td>0</td>\n",
       "      <td>NaN</td>\n",
       "    </tr>\n",
       "    <tr>\n",
       "      <th>7</th>\n",
       "      <td>2022-07-09 13:17:22</td>\n",
       "      <td>Still extremely slow when changing storage to ...</td>\n",
       "      <td>3</td>\n",
       "      <td>16</td>\n",
       "      <td>NaN</td>\n",
       "    </tr>\n",
       "    <tr>\n",
       "      <th>8</th>\n",
       "      <td>2022-07-09 13:16:49</td>\n",
       "      <td>It's a great app and the best mp3 music app I ...</td>\n",
       "      <td>5</td>\n",
       "      <td>0</td>\n",
       "      <td>NaN</td>\n",
       "    </tr>\n",
       "    <tr>\n",
       "      <th>9</th>\n",
       "      <td>2022-07-09 13:11:32</td>\n",
       "      <td>I'm deleting this app, for the following reaso...</td>\n",
       "      <td>1</td>\n",
       "      <td>318</td>\n",
       "      <td>NaN</td>\n",
       "    </tr>\n",
       "  </tbody>\n",
       "</table>\n",
       "</div>"
      ],
      "text/plain": [
       "        Time_submitted                                             Review  \\\n",
       "0  2022-07-09 15:00:00  Great music service, the audio is high quality...   \n",
       "1  2022-07-09 14:21:22  Please ignore previous negative rating. This a...   \n",
       "2  2022-07-09 13:27:32  This pop-up \"Get the best Spotify experience o...   \n",
       "3  2022-07-09 13:26:45    Really buggy and terrible to use as of recently   \n",
       "4  2022-07-09 13:20:49  Dear Spotify why do I get songs that I didn't ...   \n",
       "5  2022-07-09 13:20:20  The player controls sometimes disappear for no...   \n",
       "6  2022-07-09 13:19:21  I love the selection and the lyrics are provid...   \n",
       "7  2022-07-09 13:17:22  Still extremely slow when changing storage to ...   \n",
       "8  2022-07-09 13:16:49  It's a great app and the best mp3 music app I ...   \n",
       "9  2022-07-09 13:11:32  I'm deleting this app, for the following reaso...   \n",
       "\n",
       "   Rating  Total_thumbsup Reply  \n",
       "0       5               2   NaN  \n",
       "1       5               1   NaN  \n",
       "2       4               0   NaN  \n",
       "3       1               1   NaN  \n",
       "4       1               1   NaN  \n",
       "5       3               7   NaN  \n",
       "6       5               0   NaN  \n",
       "7       3              16   NaN  \n",
       "8       5               0   NaN  \n",
       "9       1             318   NaN  "
      ]
     },
     "execution_count": 5,
     "metadata": {},
     "output_type": "execute_result"
    }
   ],
   "source": [
    "data = pd.read_csv('../input/spotify-app-reviews-2022/reviews.csv')\n",
    "data.head(10)"
   ]
  },
  {
   "cell_type": "code",
   "execution_count": 6,
   "id": "d5ae8d95",
   "metadata": {
    "execution": {
     "iopub.execute_input": "2022-09-18T20:56:04.841634Z",
     "iopub.status.busy": "2022-09-18T20:56:04.840493Z",
     "iopub.status.idle": "2022-09-18T20:56:04.849334Z",
     "shell.execute_reply": "2022-09-18T20:56:04.847820Z"
    },
    "papermill": {
     "duration": 0.026305,
     "end_time": "2022-09-18T20:56:04.852211",
     "exception": false,
     "start_time": "2022-09-18T20:56:04.825906",
     "status": "completed"
    },
    "tags": []
   },
   "outputs": [
    {
     "data": {
      "text/plain": [
       "\"Dear Spotify why do I get songs that I didn't put on my playlist??? And why do we have shuffle play?\""
      ]
     },
     "execution_count": 6,
     "metadata": {},
     "output_type": "execute_result"
    }
   ],
   "source": [
    "data.iloc[4,1]"
   ]
  },
  {
   "cell_type": "code",
   "execution_count": 7,
   "id": "e9675c77",
   "metadata": {
    "execution": {
     "iopub.execute_input": "2022-09-18T20:56:04.880546Z",
     "iopub.status.busy": "2022-09-18T20:56:04.879724Z",
     "iopub.status.idle": "2022-09-18T20:56:04.886323Z",
     "shell.execute_reply": "2022-09-18T20:56:04.885154Z"
    },
    "papermill": {
     "duration": 0.024286,
     "end_time": "2022-09-18T20:56:04.889119",
     "exception": false,
     "start_time": "2022-09-18T20:56:04.864833",
     "status": "completed"
    },
    "tags": []
   },
   "outputs": [
    {
     "name": "stdout",
     "output_type": "stream",
     "text": [
      "Number of samples: 61594\n",
      "Number of features: 5\n"
     ]
    }
   ],
   "source": [
    "print(f'Number of samples: {data.shape[0]}\\nNumber of features: {data.shape[1]}')"
   ]
  },
  {
   "cell_type": "code",
   "execution_count": 8,
   "id": "cf453873",
   "metadata": {
    "execution": {
     "iopub.execute_input": "2022-09-18T20:56:04.918143Z",
     "iopub.status.busy": "2022-09-18T20:56:04.916974Z",
     "iopub.status.idle": "2022-09-18T20:56:04.964274Z",
     "shell.execute_reply": "2022-09-18T20:56:04.962104Z"
    },
    "papermill": {
     "duration": 0.064993,
     "end_time": "2022-09-18T20:56:04.966972",
     "exception": false,
     "start_time": "2022-09-18T20:56:04.901979",
     "status": "completed"
    },
    "tags": []
   },
   "outputs": [
    {
     "name": "stdout",
     "output_type": "stream",
     "text": [
      "<class 'pandas.core.frame.DataFrame'>\n",
      "RangeIndex: 61594 entries, 0 to 61593\n",
      "Data columns (total 5 columns):\n",
      " #   Column          Non-Null Count  Dtype \n",
      "---  ------          --------------  ----- \n",
      " 0   Time_submitted  61594 non-null  object\n",
      " 1   Review          61594 non-null  object\n",
      " 2   Rating          61594 non-null  int64 \n",
      " 3   Total_thumbsup  61594 non-null  int64 \n",
      " 4   Reply           216 non-null    object\n",
      "dtypes: int64(2), object(3)\n",
      "memory usage: 2.3+ MB\n"
     ]
    }
   ],
   "source": [
    "data.info()"
   ]
  },
  {
   "cell_type": "code",
   "execution_count": 9,
   "id": "2f137d53",
   "metadata": {
    "execution": {
     "iopub.execute_input": "2022-09-18T20:56:04.995590Z",
     "iopub.status.busy": "2022-09-18T20:56:04.995132Z",
     "iopub.status.idle": "2022-09-18T20:56:05.006592Z",
     "shell.execute_reply": "2022-09-18T20:56:05.004853Z"
    },
    "papermill": {
     "duration": 0.029489,
     "end_time": "2022-09-18T20:56:05.009429",
     "exception": false,
     "start_time": "2022-09-18T20:56:04.979940",
     "status": "completed"
    },
    "tags": []
   },
   "outputs": [
    {
     "data": {
      "text/plain": [
       "61378"
      ]
     },
     "execution_count": 9,
     "metadata": {},
     "output_type": "execute_result"
    }
   ],
   "source": [
    "data['Reply'].isna().sum()"
   ]
  },
  {
   "cell_type": "markdown",
   "id": "047eaf36",
   "metadata": {
    "papermill": {
     "duration": 0.013263,
     "end_time": "2022-09-18T20:56:05.036825",
     "exception": false,
     "start_time": "2022-09-18T20:56:05.023562",
     "status": "completed"
    },
    "tags": []
   },
   "source": [
    "Drop Time and Reply"
   ]
  },
  {
   "cell_type": "code",
   "execution_count": 10,
   "id": "e74c35e8",
   "metadata": {
    "execution": {
     "iopub.execute_input": "2022-09-18T20:56:05.066791Z",
     "iopub.status.busy": "2022-09-18T20:56:05.065465Z",
     "iopub.status.idle": "2022-09-18T20:56:05.075789Z",
     "shell.execute_reply": "2022-09-18T20:56:05.074611Z"
    },
    "papermill": {
     "duration": 0.028113,
     "end_time": "2022-09-18T20:56:05.078595",
     "exception": false,
     "start_time": "2022-09-18T20:56:05.050482",
     "status": "completed"
    },
    "tags": []
   },
   "outputs": [],
   "source": [
    "data.drop(['Time_submitted', 'Reply'], axis=1, inplace=True)"
   ]
  },
  {
   "cell_type": "code",
   "execution_count": 11,
   "id": "2c9b9212",
   "metadata": {
    "_kg_hide-output": true,
    "execution": {
     "iopub.execute_input": "2022-09-18T20:56:05.107858Z",
     "iopub.status.busy": "2022-09-18T20:56:05.106889Z",
     "iopub.status.idle": "2022-09-18T20:56:05.120741Z",
     "shell.execute_reply": "2022-09-18T20:56:05.119381Z"
    },
    "papermill": {
     "duration": 0.031791,
     "end_time": "2022-09-18T20:56:05.123706",
     "exception": false,
     "start_time": "2022-09-18T20:56:05.091915",
     "status": "completed"
    },
    "tags": []
   },
   "outputs": [
    {
     "data": {
      "text/html": [
       "<div>\n",
       "<style scoped>\n",
       "    .dataframe tbody tr th:only-of-type {\n",
       "        vertical-align: middle;\n",
       "    }\n",
       "\n",
       "    .dataframe tbody tr th {\n",
       "        vertical-align: top;\n",
       "    }\n",
       "\n",
       "    .dataframe thead th {\n",
       "        text-align: right;\n",
       "    }\n",
       "</style>\n",
       "<table border=\"1\" class=\"dataframe\">\n",
       "  <thead>\n",
       "    <tr style=\"text-align: right;\">\n",
       "      <th></th>\n",
       "      <th>Review</th>\n",
       "      <th>Rating</th>\n",
       "      <th>Total_thumbsup</th>\n",
       "    </tr>\n",
       "  </thead>\n",
       "  <tbody>\n",
       "    <tr>\n",
       "      <th>0</th>\n",
       "      <td>Great music service, the audio is high quality...</td>\n",
       "      <td>5</td>\n",
       "      <td>2</td>\n",
       "    </tr>\n",
       "    <tr>\n",
       "      <th>1</th>\n",
       "      <td>Please ignore previous negative rating. This a...</td>\n",
       "      <td>5</td>\n",
       "      <td>1</td>\n",
       "    </tr>\n",
       "    <tr>\n",
       "      <th>2</th>\n",
       "      <td>This pop-up \"Get the best Spotify experience o...</td>\n",
       "      <td>4</td>\n",
       "      <td>0</td>\n",
       "    </tr>\n",
       "    <tr>\n",
       "      <th>3</th>\n",
       "      <td>Really buggy and terrible to use as of recently</td>\n",
       "      <td>1</td>\n",
       "      <td>1</td>\n",
       "    </tr>\n",
       "    <tr>\n",
       "      <th>4</th>\n",
       "      <td>Dear Spotify why do I get songs that I didn't ...</td>\n",
       "      <td>1</td>\n",
       "      <td>1</td>\n",
       "    </tr>\n",
       "  </tbody>\n",
       "</table>\n",
       "</div>"
      ],
      "text/plain": [
       "                                              Review  Rating  Total_thumbsup\n",
       "0  Great music service, the audio is high quality...       5               2\n",
       "1  Please ignore previous negative rating. This a...       5               1\n",
       "2  This pop-up \"Get the best Spotify experience o...       4               0\n",
       "3    Really buggy and terrible to use as of recently       1               1\n",
       "4  Dear Spotify why do I get songs that I didn't ...       1               1"
      ]
     },
     "execution_count": 11,
     "metadata": {},
     "output_type": "execute_result"
    }
   ],
   "source": [
    "data.head()"
   ]
  },
  {
   "cell_type": "markdown",
   "id": "07f7b4a7",
   "metadata": {
    "papermill": {
     "duration": 0.013061,
     "end_time": "2022-09-18T20:56:05.151377",
     "exception": false,
     "start_time": "2022-09-18T20:56:05.138316",
     "status": "completed"
    },
    "tags": []
   },
   "source": [
    "## Visualization and EDA"
   ]
  },
  {
   "cell_type": "code",
   "execution_count": 12,
   "id": "faf209b1",
   "metadata": {
    "execution": {
     "iopub.execute_input": "2022-09-18T20:56:05.180362Z",
     "iopub.status.busy": "2022-09-18T20:56:05.179841Z",
     "iopub.status.idle": "2022-09-18T20:56:05.367706Z",
     "shell.execute_reply": "2022-09-18T20:56:05.366238Z"
    },
    "papermill": {
     "duration": 0.209995,
     "end_time": "2022-09-18T20:56:05.374824",
     "exception": false,
     "start_time": "2022-09-18T20:56:05.164829",
     "status": "completed"
    },
    "tags": []
   },
   "outputs": [
    {
     "data": {
      "image/png": "[encoded data removed]",
      "text/plain": [
       "<Figure size 720x504 with 1 Axes>"
      ]
     },
     "metadata": {},
     "output_type": "display_data"
    }
   ],
   "source": [
    "plt.pie(data['Rating'].value_counts(), labels=data['Rating'].unique(), autopct='%1.1f%%')\n",
    "plt.show()"
   ]
  },
  {
   "cell_type": "code",
   "execution_count": 13,
   "id": "e6426828",
   "metadata": {
    "execution": {
     "iopub.execute_input": "2022-09-18T20:56:05.442121Z",
     "iopub.status.busy": "2022-09-18T20:56:05.441030Z",
     "iopub.status.idle": "2022-09-18T20:56:05.447446Z",
     "shell.execute_reply": "2022-09-18T20:56:05.446498Z"
    },
    "papermill": {
     "duration": 0.038845,
     "end_time": "2022-09-18T20:56:05.449951",
     "exception": false,
     "start_time": "2022-09-18T20:56:05.411106",
     "status": "completed"
    },
    "tags": []
   },
   "outputs": [],
   "source": [
    "def transform_ratings(rating):\n",
    "    if rating == 5 or rating == 4:\n",
    "        return \"Good\"\n",
    "    if rating == 3:\n",
    "        return \"Neutral\"\n",
    "    if rating == 2 or rating == 1:\n",
    "        return \"Bad\""
   ]
  },
  {
   "cell_type": "code",
   "execution_count": 14,
   "id": "2e3e3af3",
   "metadata": {
    "execution": {
     "iopub.execute_input": "2022-09-18T20:56:05.481118Z",
     "iopub.status.busy": "2022-09-18T20:56:05.479925Z",
     "iopub.status.idle": "2022-09-18T20:56:05.548294Z",
     "shell.execute_reply": "2022-09-18T20:56:05.546906Z"
    },
    "papermill": {
     "duration": 0.086357,
     "end_time": "2022-09-18T20:56:05.550967",
     "exception": false,
     "start_time": "2022-09-18T20:56:05.464610",
     "status": "completed"
    },
    "tags": []
   },
   "outputs": [],
   "source": [
    "data['Rating'] = data['Rating'].apply(transform_ratings)\n",
    "data['length'] = data['Review'].str.len()"
   ]
  },
  {
   "cell_type": "code",
   "execution_count": 15,
   "id": "f42f977b",
   "metadata": {
    "execution": {
     "iopub.execute_input": "2022-09-18T20:56:05.581642Z",
     "iopub.status.busy": "2022-09-18T20:56:05.581183Z",
     "iopub.status.idle": "2022-09-18T20:56:05.925851Z",
     "shell.execute_reply": "2022-09-18T20:56:05.924452Z"
    },
    "papermill": {
     "duration": 0.362019,
     "end_time": "2022-09-18T20:56:05.928678",
     "exception": false,
     "start_time": "2022-09-18T20:56:05.566659",
     "status": "completed"
    },
    "tags": []
   },
   "outputs": [
    {
     "data": {
      "image/png": "[encoded data removed]",
      "text/plain": [
       "<Figure size 720x504 with 1 Axes>"
      ]
     },
     "metadata": {},
     "output_type": "display_data"
    }
   ],
   "source": [
    "sns.histplot(data['Rating'])\n",
    "plt.title('Ratings')\n",
    "plt.xlabel('')\n",
    "plt.show()"
   ]
  },
  {
   "cell_type": "code",
   "execution_count": 16,
   "id": "df4640eb",
   "metadata": {
    "execution": {
     "iopub.execute_input": "2022-09-18T20:56:05.961142Z",
     "iopub.status.busy": "2022-09-18T20:56:05.960486Z",
     "iopub.status.idle": "2022-09-18T20:56:06.483193Z",
     "shell.execute_reply": "2022-09-18T20:56:06.481921Z"
    },
    "papermill": {
     "duration": 0.541669,
     "end_time": "2022-09-18T20:56:06.485746",
     "exception": false,
     "start_time": "2022-09-18T20:56:05.944077",
     "status": "completed"
    },
    "tags": []
   },
   "outputs": [
    {
     "data": {
      "image/png": "[encoded data removed]",
      "text/plain": [
       "<Figure size 720x504 with 1 Axes>"
      ]
     },
     "metadata": {},
     "output_type": "display_data"
    }
   ],
   "source": [
    "sns.histplot(data['length'][data.length<800])\n",
    "plt.title('Lenght of Reviews')\n",
    "plt.xlabel('')\n",
    "plt.show()"
   ]
  },
  {
   "cell_type": "code",
   "execution_count": 17,
   "id": "4be3dd95",
   "metadata": {
    "execution": {
     "iopub.execute_input": "2022-09-18T20:56:06.519553Z",
     "iopub.status.busy": "2022-09-18T20:56:06.518265Z",
     "iopub.status.idle": "2022-09-18T20:56:06.534665Z",
     "shell.execute_reply": "2022-09-18T20:56:06.533625Z"
    },
    "papermill": {
     "duration": 0.03585,
     "end_time": "2022-09-18T20:56:06.536937",
     "exception": false,
     "start_time": "2022-09-18T20:56:06.501087",
     "status": "completed"
    },
    "tags": []
   },
   "outputs": [
    {
     "data": {
      "text/plain": [
       "count    61594.000000\n",
       "mean       163.323457\n",
       "std        119.940997\n",
       "min         10.000000\n",
       "25%         72.000000\n",
       "50%        130.000000\n",
       "75%        221.000000\n",
       "max       3753.000000\n",
       "Name: length, dtype: float64"
      ]
     },
     "execution_count": 17,
     "metadata": {},
     "output_type": "execute_result"
    }
   ],
   "source": [
    "data['length'].describe()"
   ]
  },
  {
   "cell_type": "code",
   "execution_count": 18,
   "id": "e2742ad2",
   "metadata": {
    "execution": {
     "iopub.execute_input": "2022-09-18T20:56:06.570007Z",
     "iopub.status.busy": "2022-09-18T20:56:06.568940Z",
     "iopub.status.idle": "2022-09-18T20:56:08.728212Z",
     "shell.execute_reply": "2022-09-18T20:56:08.727217Z"
    },
    "papermill": {
     "duration": 2.181061,
     "end_time": "2022-09-18T20:56:08.733022",
     "exception": false,
     "start_time": "2022-09-18T20:56:06.551961",
     "status": "completed"
    },
    "tags": []
   },
   "outputs": [
    {
     "data": {
      "image/png": "[encoded data removed]",
      "text/plain": [
       "<Figure size 720x504 with 1 Axes>"
      ]
     },
     "metadata": {},
     "output_type": "display_data"
    }
   ],
   "source": [
    "sns.scatterplot(x=data['length'][data.length < 500], y=data['Total_thumbsup'][data.Total_thumbsup < 1500], hue=data['Rating'])\n",
    "plt.show()"
   ]
  },
  {
   "cell_type": "markdown",
   "id": "96617a6e",
   "metadata": {
    "papermill": {
     "duration": 0.018197,
     "end_time": "2022-09-18T20:56:08.770022",
     "exception": false,
     "start_time": "2022-09-18T20:56:08.751825",
     "status": "completed"
    },
    "tags": []
   },
   "source": [
    "## Text Preprocessing\n",
    "1. Lowercase\n",
    "2. Remove punctuations\n",
    "3. Tokenize\n",
    "4. Stopword Removal\n",
    "5. Lemmatize"
   ]
  },
  {
   "cell_type": "code",
   "execution_count": 19,
   "id": "959486ec",
   "metadata": {
    "_kg_hide-output": true,
    "execution": {
     "iopub.execute_input": "2022-09-18T20:56:08.809675Z",
     "iopub.status.busy": "2022-09-18T20:56:08.808887Z",
     "iopub.status.idle": "2022-09-18T20:56:09.364757Z",
     "shell.execute_reply": "2022-09-18T20:56:09.363830Z"
    },
    "papermill": {
     "duration": 0.57902,
     "end_time": "2022-09-18T20:56:09.367214",
     "exception": false,
     "start_time": "2022-09-18T20:56:08.788194",
     "status": "completed"
    },
    "tags": []
   },
   "outputs": [
    {
     "data": {
      "text/html": [
       "<div>\n",
       "<style scoped>\n",
       "    .dataframe tbody tr th:only-of-type {\n",
       "        vertical-align: middle;\n",
       "    }\n",
       "\n",
       "    .dataframe tbody tr th {\n",
       "        vertical-align: top;\n",
       "    }\n",
       "\n",
       "    .dataframe thead th {\n",
       "        text-align: right;\n",
       "    }\n",
       "</style>\n",
       "<table border=\"1\" class=\"dataframe\">\n",
       "  <thead>\n",
       "    <tr style=\"text-align: right;\">\n",
       "      <th></th>\n",
       "      <th>Review</th>\n",
       "      <th>Rating</th>\n",
       "      <th>Total_thumbsup</th>\n",
       "      <th>length</th>\n",
       "    </tr>\n",
       "  </thead>\n",
       "  <tbody>\n",
       "    <tr>\n",
       "      <th>0</th>\n",
       "      <td>great music service, the audio is high quality...</td>\n",
       "      <td>Good</td>\n",
       "      <td>2</td>\n",
       "      <td>112</td>\n",
       "    </tr>\n",
       "    <tr>\n",
       "      <th>1</th>\n",
       "      <td>please ignore previous negative rating. this a...</td>\n",
       "      <td>Good</td>\n",
       "      <td>1</td>\n",
       "      <td>86</td>\n",
       "    </tr>\n",
       "    <tr>\n",
       "      <th>2</th>\n",
       "      <td>this pop-up \"get the best spotify experience o...</td>\n",
       "      <td>Good</td>\n",
       "      <td>0</td>\n",
       "      <td>106</td>\n",
       "    </tr>\n",
       "    <tr>\n",
       "      <th>3</th>\n",
       "      <td>really buggy and terrible to use as of recently</td>\n",
       "      <td>Bad</td>\n",
       "      <td>1</td>\n",
       "      <td>47</td>\n",
       "    </tr>\n",
       "    <tr>\n",
       "      <th>4</th>\n",
       "      <td>dear spotify why do i get songs that i didn't ...</td>\n",
       "      <td>Bad</td>\n",
       "      <td>1</td>\n",
       "      <td>100</td>\n",
       "    </tr>\n",
       "    <tr>\n",
       "      <th>5</th>\n",
       "      <td>the player controls sometimes disappear for no...</td>\n",
       "      <td>Neutral</td>\n",
       "      <td>7</td>\n",
       "      <td>114</td>\n",
       "    </tr>\n",
       "    <tr>\n",
       "      <th>6</th>\n",
       "      <td>i love the selection and the lyrics are provid...</td>\n",
       "      <td>Good</td>\n",
       "      <td>0</td>\n",
       "      <td>83</td>\n",
       "    </tr>\n",
       "    <tr>\n",
       "      <th>7</th>\n",
       "      <td>still extremely slow when changing storage to ...</td>\n",
       "      <td>Neutral</td>\n",
       "      <td>16</td>\n",
       "      <td>352</td>\n",
       "    </tr>\n",
       "    <tr>\n",
       "      <th>8</th>\n",
       "      <td>it's a great app and the best mp3 music app i ...</td>\n",
       "      <td>Good</td>\n",
       "      <td>0</td>\n",
       "      <td>210</td>\n",
       "    </tr>\n",
       "    <tr>\n",
       "      <th>9</th>\n",
       "      <td>i'm deleting this app, for the following reaso...</td>\n",
       "      <td>Bad</td>\n",
       "      <td>318</td>\n",
       "      <td>443</td>\n",
       "    </tr>\n",
       "  </tbody>\n",
       "</table>\n",
       "</div>"
      ],
      "text/plain": [
       "                                              Review   Rating  Total_thumbsup  \\\n",
       "0  great music service, the audio is high quality...     Good               2   \n",
       "1  please ignore previous negative rating. this a...     Good               1   \n",
       "2  this pop-up \"get the best spotify experience o...     Good               0   \n",
       "3    really buggy and terrible to use as of recently      Bad               1   \n",
       "4  dear spotify why do i get songs that i didn't ...      Bad               1   \n",
       "5  the player controls sometimes disappear for no...  Neutral               7   \n",
       "6  i love the selection and the lyrics are provid...     Good               0   \n",
       "7  still extremely slow when changing storage to ...  Neutral              16   \n",
       "8  it's a great app and the best mp3 music app i ...     Good               0   \n",
       "9  i'm deleting this app, for the following reaso...      Bad             318   \n",
       "\n",
       "   length  \n",
       "0     112  \n",
       "1      86  \n",
       "2     106  \n",
       "3      47  \n",
       "4     100  \n",
       "5     114  \n",
       "6      83  \n",
       "7     352  \n",
       "8     210  \n",
       "9     443  "
      ]
     },
     "execution_count": 19,
     "metadata": {},
     "output_type": "execute_result"
    }
   ],
   "source": [
    "data.loc[:,'Review'] = data.loc[:,'Review'].apply(lambda x: \" \".join(x.lower() for x in x.split()))\n",
    "data.head(10)"
   ]
  },
  {
   "cell_type": "code",
   "execution_count": 20,
   "id": "23d3c5ed",
   "metadata": {
    "_kg_hide-output": true,
    "execution": {
     "iopub.execute_input": "2022-09-18T20:56:09.408020Z",
     "iopub.status.busy": "2022-09-18T20:56:09.407483Z",
     "iopub.status.idle": "2022-09-18T20:56:09.808948Z",
     "shell.execute_reply": "2022-09-18T20:56:09.807045Z"
    },
    "papermill": {
     "duration": 0.42546,
     "end_time": "2022-09-18T20:56:09.811893",
     "exception": false,
     "start_time": "2022-09-18T20:56:09.386433",
     "status": "completed"
    },
    "tags": []
   },
   "outputs": [
    {
     "data": {
      "text/html": [
       "<div>\n",
       "<style scoped>\n",
       "    .dataframe tbody tr th:only-of-type {\n",
       "        vertical-align: middle;\n",
       "    }\n",
       "\n",
       "    .dataframe tbody tr th {\n",
       "        vertical-align: top;\n",
       "    }\n",
       "\n",
       "    .dataframe thead th {\n",
       "        text-align: right;\n",
       "    }\n",
       "</style>\n",
       "<table border=\"1\" class=\"dataframe\">\n",
       "  <thead>\n",
       "    <tr style=\"text-align: right;\">\n",
       "      <th></th>\n",
       "      <th>Review</th>\n",
       "      <th>Rating</th>\n",
       "      <th>Total_thumbsup</th>\n",
       "      <th>length</th>\n",
       "    </tr>\n",
       "  </thead>\n",
       "  <tbody>\n",
       "    <tr>\n",
       "      <th>0</th>\n",
       "      <td>great music service the audio is high quality ...</td>\n",
       "      <td>Good</td>\n",
       "      <td>2</td>\n",
       "      <td>112</td>\n",
       "    </tr>\n",
       "    <tr>\n",
       "      <th>1</th>\n",
       "      <td>please ignore previous negative rating this ap...</td>\n",
       "      <td>Good</td>\n",
       "      <td>1</td>\n",
       "      <td>86</td>\n",
       "    </tr>\n",
       "    <tr>\n",
       "      <th>2</th>\n",
       "      <td>this pop-up get the best spotify experience on...</td>\n",
       "      <td>Good</td>\n",
       "      <td>0</td>\n",
       "      <td>106</td>\n",
       "    </tr>\n",
       "    <tr>\n",
       "      <th>3</th>\n",
       "      <td>really buggy and terrible to use as of recently</td>\n",
       "      <td>Bad</td>\n",
       "      <td>1</td>\n",
       "      <td>47</td>\n",
       "    </tr>\n",
       "    <tr>\n",
       "      <th>4</th>\n",
       "      <td>dear spotify why do i get songs that i didnt p...</td>\n",
       "      <td>Bad</td>\n",
       "      <td>1</td>\n",
       "      <td>100</td>\n",
       "    </tr>\n",
       "    <tr>\n",
       "      <th>5</th>\n",
       "      <td>the player controls sometimes disappear for no...</td>\n",
       "      <td>Neutral</td>\n",
       "      <td>7</td>\n",
       "      <td>114</td>\n",
       "    </tr>\n",
       "    <tr>\n",
       "      <th>6</th>\n",
       "      <td>i love the selection and the lyrics are provid...</td>\n",
       "      <td>Good</td>\n",
       "      <td>0</td>\n",
       "      <td>83</td>\n",
       "    </tr>\n",
       "    <tr>\n",
       "      <th>7</th>\n",
       "      <td>still extremely slow when changing storage to ...</td>\n",
       "      <td>Neutral</td>\n",
       "      <td>16</td>\n",
       "      <td>352</td>\n",
       "    </tr>\n",
       "    <tr>\n",
       "      <th>8</th>\n",
       "      <td>its a great app and the best mp3 music app i h...</td>\n",
       "      <td>Good</td>\n",
       "      <td>0</td>\n",
       "      <td>210</td>\n",
       "    </tr>\n",
       "    <tr>\n",
       "      <th>9</th>\n",
       "      <td>im deleting this app for the following reasons...</td>\n",
       "      <td>Bad</td>\n",
       "      <td>318</td>\n",
       "      <td>443</td>\n",
       "    </tr>\n",
       "  </tbody>\n",
       "</table>\n",
       "</div>"
      ],
      "text/plain": [
       "                                              Review   Rating  Total_thumbsup  \\\n",
       "0  great music service the audio is high quality ...     Good               2   \n",
       "1  please ignore previous negative rating this ap...     Good               1   \n",
       "2  this pop-up get the best spotify experience on...     Good               0   \n",
       "3    really buggy and terrible to use as of recently      Bad               1   \n",
       "4  dear spotify why do i get songs that i didnt p...      Bad               1   \n",
       "5  the player controls sometimes disappear for no...  Neutral               7   \n",
       "6  i love the selection and the lyrics are provid...     Good               0   \n",
       "7  still extremely slow when changing storage to ...  Neutral              16   \n",
       "8  its a great app and the best mp3 music app i h...     Good               0   \n",
       "9  im deleting this app for the following reasons...      Bad             318   \n",
       "\n",
       "   length  \n",
       "0     112  \n",
       "1      86  \n",
       "2     106  \n",
       "3      47  \n",
       "4     100  \n",
       "5     114  \n",
       "6      83  \n",
       "7     352  \n",
       "8     210  \n",
       "9     443  "
      ]
     },
     "execution_count": 20,
     "metadata": {},
     "output_type": "execute_result"
    }
   ],
   "source": [
    "import re\n",
    "data.loc[:,'Review'] = data.loc[:,'Review'].apply(lambda word: re.sub('[^a-z A-Z 0-9-]+', '', word))\n",
    "data.head(10)"
   ]
  },
  {
   "cell_type": "code",
   "execution_count": 21,
   "id": "3b0357ec",
   "metadata": {
    "_kg_hide-output": true,
    "execution": {
     "iopub.execute_input": "2022-09-18T20:56:09.855791Z",
     "iopub.status.busy": "2022-09-18T20:56:09.855118Z",
     "iopub.status.idle": "2022-09-18T20:56:14.253335Z",
     "shell.execute_reply": "2022-09-18T20:56:14.252062Z"
    },
    "papermill": {
     "duration": 4.425378,
     "end_time": "2022-09-18T20:56:14.255990",
     "exception": false,
     "start_time": "2022-09-18T20:56:09.830612",
     "status": "completed"
    },
    "tags": []
   },
   "outputs": [
    {
     "data": {
      "text/html": [
       "<div>\n",
       "<style scoped>\n",
       "    .dataframe tbody tr th:only-of-type {\n",
       "        vertical-align: middle;\n",
       "    }\n",
       "\n",
       "    .dataframe tbody tr th {\n",
       "        vertical-align: top;\n",
       "    }\n",
       "\n",
       "    .dataframe thead th {\n",
       "        text-align: right;\n",
       "    }\n",
       "</style>\n",
       "<table border=\"1\" class=\"dataframe\">\n",
       "  <thead>\n",
       "    <tr style=\"text-align: right;\">\n",
       "      <th></th>\n",
       "      <th>Review</th>\n",
       "      <th>Rating</th>\n",
       "      <th>Total_thumbsup</th>\n",
       "      <th>length</th>\n",
       "    </tr>\n",
       "  </thead>\n",
       "  <tbody>\n",
       "    <tr>\n",
       "      <th>0</th>\n",
       "      <td>great music service audio high quality app eas...</td>\n",
       "      <td>Good</td>\n",
       "      <td>2</td>\n",
       "      <td>112</td>\n",
       "    </tr>\n",
       "    <tr>\n",
       "      <th>1</th>\n",
       "      <td>please ignore previous negative rating app sup...</td>\n",
       "      <td>Good</td>\n",
       "      <td>1</td>\n",
       "      <td>86</td>\n",
       "    </tr>\n",
       "    <tr>\n",
       "      <th>2</th>\n",
       "      <td>pop-up get best spotify experience android 12 ...</td>\n",
       "      <td>Good</td>\n",
       "      <td>0</td>\n",
       "      <td>106</td>\n",
       "    </tr>\n",
       "    <tr>\n",
       "      <th>3</th>\n",
       "      <td>really buggy terrible use recently</td>\n",
       "      <td>Bad</td>\n",
       "      <td>1</td>\n",
       "      <td>47</td>\n",
       "    </tr>\n",
       "    <tr>\n",
       "      <th>4</th>\n",
       "      <td>dear spotify get songs didnt put playlist shuf...</td>\n",
       "      <td>Bad</td>\n",
       "      <td>1</td>\n",
       "      <td>100</td>\n",
       "    </tr>\n",
       "    <tr>\n",
       "      <th>5</th>\n",
       "      <td>player controls sometimes disappear reason app...</td>\n",
       "      <td>Neutral</td>\n",
       "      <td>7</td>\n",
       "      <td>114</td>\n",
       "    </tr>\n",
       "    <tr>\n",
       "      <th>6</th>\n",
       "      <td>love selection lyrics provided song youre list...</td>\n",
       "      <td>Good</td>\n",
       "      <td>0</td>\n",
       "      <td>83</td>\n",
       "    </tr>\n",
       "    <tr>\n",
       "      <th>7</th>\n",
       "      <td>still extremely slow changing storage external...</td>\n",
       "      <td>Neutral</td>\n",
       "      <td>16</td>\n",
       "      <td>352</td>\n",
       "    </tr>\n",
       "    <tr>\n",
       "      <th>8</th>\n",
       "      <td>great app best mp3 music app ever used one pro...</td>\n",
       "      <td>Good</td>\n",
       "      <td>0</td>\n",
       "      <td>210</td>\n",
       "    </tr>\n",
       "    <tr>\n",
       "      <th>9</th>\n",
       "      <td>im deleting app following reasons app failing ...</td>\n",
       "      <td>Bad</td>\n",
       "      <td>318</td>\n",
       "      <td>443</td>\n",
       "    </tr>\n",
       "  </tbody>\n",
       "</table>\n",
       "</div>"
      ],
      "text/plain": [
       "                                              Review   Rating  Total_thumbsup  \\\n",
       "0  great music service audio high quality app eas...     Good               2   \n",
       "1  please ignore previous negative rating app sup...     Good               1   \n",
       "2  pop-up get best spotify experience android 12 ...     Good               0   \n",
       "3                 really buggy terrible use recently      Bad               1   \n",
       "4  dear spotify get songs didnt put playlist shuf...      Bad               1   \n",
       "5  player controls sometimes disappear reason app...  Neutral               7   \n",
       "6  love selection lyrics provided song youre list...     Good               0   \n",
       "7  still extremely slow changing storage external...  Neutral              16   \n",
       "8  great app best mp3 music app ever used one pro...     Good               0   \n",
       "9  im deleting app following reasons app failing ...      Bad             318   \n",
       "\n",
       "   length  \n",
       "0     112  \n",
       "1      86  \n",
       "2     106  \n",
       "3      47  \n",
       "4     100  \n",
       "5     114  \n",
       "6      83  \n",
       "7     352  \n",
       "8     210  \n",
       "9     443  "
      ]
     },
     "execution_count": 21,
     "metadata": {},
     "output_type": "execute_result"
    }
   ],
   "source": [
    "stop_words = stopwords.words('english')\n",
    "data.loc[:,'Review'] = data.loc[:,'Review'].apply(lambda word: \" \".join(word for word in word.split() if word not in stop_words))\n",
    "data.head(10)"
   ]
  },
  {
   "cell_type": "code",
   "execution_count": 22,
   "id": "46e28b25",
   "metadata": {
    "_kg_hide-output": true,
    "execution": {
     "iopub.execute_input": "2022-09-18T20:56:14.294406Z",
     "iopub.status.busy": "2022-09-18T20:56:14.294017Z",
     "iopub.status.idle": "2022-09-18T20:56:21.578504Z",
     "shell.execute_reply": "2022-09-18T20:56:21.577156Z"
    },
    "papermill": {
     "duration": 7.306761,
     "end_time": "2022-09-18T20:56:21.581000",
     "exception": false,
     "start_time": "2022-09-18T20:56:14.274239",
     "status": "completed"
    },
    "tags": []
   },
   "outputs": [
    {
     "data": {
      "text/html": [
       "<div>\n",
       "<style scoped>\n",
       "    .dataframe tbody tr th:only-of-type {\n",
       "        vertical-align: middle;\n",
       "    }\n",
       "\n",
       "    .dataframe tbody tr th {\n",
       "        vertical-align: top;\n",
       "    }\n",
       "\n",
       "    .dataframe thead th {\n",
       "        text-align: right;\n",
       "    }\n",
       "</style>\n",
       "<table border=\"1\" class=\"dataframe\">\n",
       "  <thead>\n",
       "    <tr style=\"text-align: right;\">\n",
       "      <th></th>\n",
       "      <th>Review</th>\n",
       "      <th>Rating</th>\n",
       "      <th>Total_thumbsup</th>\n",
       "      <th>length</th>\n",
       "    </tr>\n",
       "  </thead>\n",
       "  <tbody>\n",
       "    <tr>\n",
       "      <th>0</th>\n",
       "      <td>great music service audio high quality app eas...</td>\n",
       "      <td>Good</td>\n",
       "      <td>2</td>\n",
       "      <td>112</td>\n",
       "    </tr>\n",
       "    <tr>\n",
       "      <th>1</th>\n",
       "      <td>please ignore previous negative rating app sup...</td>\n",
       "      <td>Good</td>\n",
       "      <td>1</td>\n",
       "      <td>86</td>\n",
       "    </tr>\n",
       "    <tr>\n",
       "      <th>2</th>\n",
       "      <td>pop-up get best spotify experience android 12 ...</td>\n",
       "      <td>Good</td>\n",
       "      <td>0</td>\n",
       "      <td>106</td>\n",
       "    </tr>\n",
       "    <tr>\n",
       "      <th>3</th>\n",
       "      <td>really buggy terrible use recently</td>\n",
       "      <td>Bad</td>\n",
       "      <td>1</td>\n",
       "      <td>47</td>\n",
       "    </tr>\n",
       "    <tr>\n",
       "      <th>4</th>\n",
       "      <td>dear spotify get song didnt put playlist shuff...</td>\n",
       "      <td>Bad</td>\n",
       "      <td>1</td>\n",
       "      <td>100</td>\n",
       "    </tr>\n",
       "    <tr>\n",
       "      <th>5</th>\n",
       "      <td>player control sometimes disappear reason app ...</td>\n",
       "      <td>Neutral</td>\n",
       "      <td>7</td>\n",
       "      <td>114</td>\n",
       "    </tr>\n",
       "    <tr>\n",
       "      <th>6</th>\n",
       "      <td>love selection lyric provided song youre liste...</td>\n",
       "      <td>Good</td>\n",
       "      <td>0</td>\n",
       "      <td>83</td>\n",
       "    </tr>\n",
       "    <tr>\n",
       "      <th>7</th>\n",
       "      <td>still extremely slow changing storage external...</td>\n",
       "      <td>Neutral</td>\n",
       "      <td>16</td>\n",
       "      <td>352</td>\n",
       "    </tr>\n",
       "    <tr>\n",
       "      <th>8</th>\n",
       "      <td>great app best mp3 music app ever used one pro...</td>\n",
       "      <td>Good</td>\n",
       "      <td>0</td>\n",
       "      <td>210</td>\n",
       "    </tr>\n",
       "    <tr>\n",
       "      <th>9</th>\n",
       "      <td>im deleting app following reason app failing b...</td>\n",
       "      <td>Bad</td>\n",
       "      <td>318</td>\n",
       "      <td>443</td>\n",
       "    </tr>\n",
       "  </tbody>\n",
       "</table>\n",
       "</div>"
      ],
      "text/plain": [
       "                                              Review   Rating  Total_thumbsup  \\\n",
       "0  great music service audio high quality app eas...     Good               2   \n",
       "1  please ignore previous negative rating app sup...     Good               1   \n",
       "2  pop-up get best spotify experience android 12 ...     Good               0   \n",
       "3                 really buggy terrible use recently      Bad               1   \n",
       "4  dear spotify get song didnt put playlist shuff...      Bad               1   \n",
       "5  player control sometimes disappear reason app ...  Neutral               7   \n",
       "6  love selection lyric provided song youre liste...     Good               0   \n",
       "7  still extremely slow changing storage external...  Neutral              16   \n",
       "8  great app best mp3 music app ever used one pro...     Good               0   \n",
       "9  im deleting app following reason app failing b...      Bad             318   \n",
       "\n",
       "   length  \n",
       "0     112  \n",
       "1      86  \n",
       "2     106  \n",
       "3      47  \n",
       "4     100  \n",
       "5     114  \n",
       "6      83  \n",
       "7     352  \n",
       "8     210  \n",
       "9     443  "
      ]
     },
     "execution_count": 22,
     "metadata": {},
     "output_type": "execute_result"
    }
   ],
   "source": [
    "lemmat = WordNetLemmatizer()\n",
    "data.loc[:,'Review'] = data.loc[:,'Review'].apply(lambda word: \" \".join(lemmat.lemmatize(word) for word in word.split()))\n",
    "data.head(10)"
   ]
  },
  {
   "cell_type": "markdown",
   "id": "8d704e59",
   "metadata": {
    "papermill": {
     "duration": 0.017641,
     "end_time": "2022-09-18T20:56:21.616809",
     "exception": false,
     "start_time": "2022-09-18T20:56:21.599168",
     "status": "completed"
    },
    "tags": []
   },
   "source": [
    "## Feature Engineering\n",
    "\n",
    "* Splitting into Train and Test sets\n",
    "* Label Encoding\n",
    "* Text Encoding\n",
    "> 1. Count Vectorization\n",
    "> 2. TF-IDF Character Level"
   ]
  },
  {
   "cell_type": "markdown",
   "id": "516bbbd9",
   "metadata": {
    "papermill": {
     "duration": 0.017389,
     "end_time": "2022-09-18T20:56:21.651613",
     "exception": false,
     "start_time": "2022-09-18T20:56:21.634224",
     "status": "completed"
    },
    "tags": []
   },
   "source": [
    "### Splitting the data"
   ]
  },
  {
   "cell_type": "code",
   "execution_count": 23,
   "id": "489c6d74",
   "metadata": {
    "execution": {
     "iopub.execute_input": "2022-09-18T20:56:21.688372Z",
     "iopub.status.busy": "2022-09-18T20:56:21.687947Z",
     "iopub.status.idle": "2022-09-18T20:56:21.708595Z",
     "shell.execute_reply": "2022-09-18T20:56:21.707318Z"
    },
    "papermill": {
     "duration": 0.042087,
     "end_time": "2022-09-18T20:56:21.711114",
     "exception": false,
     "start_time": "2022-09-18T20:56:21.669027",
     "status": "completed"
    },
    "tags": []
   },
   "outputs": [
    {
     "data": {
      "text/plain": [
       "((46195,), (15399,), (46195,), (15399,))"
      ]
     },
     "execution_count": 23,
     "metadata": {},
     "output_type": "execute_result"
    }
   ],
   "source": [
    "X = data['Review']\n",
    "y = data['Rating']\n",
    "\n",
    "X_train, X_test, y_train, y_test = train_test_split(X, y, test_size=0.25, random_state=40)\n",
    "X_train.shape, X_test.shape, y_train.shape, y_test.shape"
   ]
  },
  {
   "cell_type": "markdown",
   "id": "b9935979",
   "metadata": {
    "papermill": {
     "duration": 0.01796,
     "end_time": "2022-09-18T20:56:21.747786",
     "exception": false,
     "start_time": "2022-09-18T20:56:21.729826",
     "status": "completed"
    },
    "tags": []
   },
   "source": [
    "### Label Encoding"
   ]
  },
  {
   "cell_type": "code",
   "execution_count": 24,
   "id": "3356cb4c",
   "metadata": {
    "execution": {
     "iopub.execute_input": "2022-09-18T20:56:21.786861Z",
     "iopub.status.busy": "2022-09-18T20:56:21.786415Z",
     "iopub.status.idle": "2022-09-18T20:56:21.808953Z",
     "shell.execute_reply": "2022-09-18T20:56:21.807302Z"
    },
    "papermill": {
     "duration": 0.044827,
     "end_time": "2022-09-18T20:56:21.811399",
     "exception": false,
     "start_time": "2022-09-18T20:56:21.766572",
     "status": "completed"
    },
    "tags": []
   },
   "outputs": [],
   "source": [
    "le = LabelEncoder()\n",
    "le.fit(y_train)\n",
    "y_train = le.transform(y_train)\n",
    "y_test = le.transform(y_test)"
   ]
  },
  {
   "cell_type": "markdown",
   "id": "f1695d73",
   "metadata": {
    "papermill": {
     "duration": 0.019506,
     "end_time": "2022-09-18T20:56:21.848982",
     "exception": false,
     "start_time": "2022-09-18T20:56:21.829476",
     "status": "completed"
    },
    "tags": []
   },
   "source": [
    "### Count Vectorization"
   ]
  },
  {
   "cell_type": "code",
   "execution_count": 25,
   "id": "7f41fe07",
   "metadata": {
    "execution": {
     "iopub.execute_input": "2022-09-18T20:56:21.887893Z",
     "iopub.status.busy": "2022-09-18T20:56:21.887492Z",
     "iopub.status.idle": "2022-09-18T20:56:23.710321Z",
     "shell.execute_reply": "2022-09-18T20:56:23.709044Z"
    },
    "papermill": {
     "duration": 1.845577,
     "end_time": "2022-09-18T20:56:23.713291",
     "exception": false,
     "start_time": "2022-09-18T20:56:21.867714",
     "status": "completed"
    },
    "tags": []
   },
   "outputs": [],
   "source": [
    "cv = CountVectorizer()\n",
    "cv.fit(X_train)\n",
    "X_train_count = cv.transform(X_train)\n",
    "X_test_count = cv.transform(X_test)"
   ]
  },
  {
   "cell_type": "code",
   "execution_count": 26,
   "id": "851e3ffe",
   "metadata": {
    "_kg_hide-input": true,
    "_kg_hide-output": true,
    "execution": {
     "iopub.execute_input": "2022-09-18T20:56:23.754994Z",
     "iopub.status.busy": "2022-09-18T20:56:23.754227Z",
     "iopub.status.idle": "2022-09-18T20:56:23.789205Z",
     "shell.execute_reply": "2022-09-18T20:56:23.788142Z"
    },
    "papermill": {
     "duration": 0.061119,
     "end_time": "2022-09-18T20:56:23.792319",
     "exception": false,
     "start_time": "2022-09-18T20:56:23.731200",
     "status": "completed"
    },
    "tags": []
   },
   "outputs": [
    {
     "data": {
      "text/plain": [
       "['00',\n",
       " '000',\n",
       " '0000',\n",
       " '0000000001',\n",
       " '0001',\n",
       " '0003',\n",
       " '000348',\n",
       " '0009',\n",
       " '001',\n",
       " '004']"
      ]
     },
     "execution_count": 26,
     "metadata": {},
     "output_type": "execute_result"
    }
   ],
   "source": [
    "cv.get_feature_names()[:10]"
   ]
  },
  {
   "cell_type": "markdown",
   "id": "68db4313",
   "metadata": {
    "papermill": {
     "duration": 0.023341,
     "end_time": "2022-09-18T20:56:23.846166",
     "exception": false,
     "start_time": "2022-09-18T20:56:23.822825",
     "status": "completed"
    },
    "tags": []
   },
   "source": [
    "### Character Level TF-IDF"
   ]
  },
  {
   "cell_type": "code",
   "execution_count": 27,
   "id": "be3e2ee4",
   "metadata": {
    "execution": {
     "iopub.execute_input": "2022-09-18T20:56:23.887405Z",
     "iopub.status.busy": "2022-09-18T20:56:23.886773Z",
     "iopub.status.idle": "2022-09-18T20:56:38.809319Z",
     "shell.execute_reply": "2022-09-18T20:56:38.808045Z"
    },
    "papermill": {
     "duration": 14.944507,
     "end_time": "2022-09-18T20:56:38.812146",
     "exception": false,
     "start_time": "2022-09-18T20:56:23.867639",
     "status": "completed"
    },
    "tags": []
   },
   "outputs": [],
   "source": [
    "tfidf = TfidfVectorizer(analyzer='char', ngram_range=(2,3))\n",
    "tfidf.fit(X_train)\n",
    "X_train_tfidf = tfidf.transform(X_train)\n",
    "X_test_tfidf = tfidf.transform(X_test)"
   ]
  },
  {
   "cell_type": "code",
   "execution_count": 28,
   "id": "dbfcee44",
   "metadata": {
    "_kg_hide-input": true,
    "_kg_hide-output": true,
    "execution": {
     "iopub.execute_input": "2022-09-18T20:56:38.853333Z",
     "iopub.status.busy": "2022-09-18T20:56:38.852298Z",
     "iopub.status.idle": "2022-09-18T20:56:38.872572Z",
     "shell.execute_reply": "2022-09-18T20:56:38.871205Z"
    },
    "papermill": {
     "duration": 0.044147,
     "end_time": "2022-09-18T20:56:38.875002",
     "exception": false,
     "start_time": "2022-09-18T20:56:38.830855",
     "status": "completed"
    },
    "tags": []
   },
   "outputs": [
    {
     "data": {
      "text/plain": [
       "[' -', ' - ', ' --', ' -0', ' -1', ' -2', ' -3', ' -4', ' -5', ' -6']"
      ]
     },
     "execution_count": 28,
     "metadata": {},
     "output_type": "execute_result"
    }
   ],
   "source": [
    "tfidf.get_feature_names()[:10]"
   ]
  },
  {
   "cell_type": "markdown",
   "id": "c653dd9b",
   "metadata": {
    "papermill": {
     "duration": 0.018775,
     "end_time": "2022-09-18T20:56:38.912795",
     "exception": false,
     "start_time": "2022-09-18T20:56:38.894020",
     "status": "completed"
    },
    "tags": []
   },
   "source": [
    "## Classification"
   ]
  },
  {
   "cell_type": "markdown",
   "id": "6748c306",
   "metadata": {
    "papermill": {
     "duration": 0.018902,
     "end_time": "2022-09-18T20:56:38.950017",
     "exception": false,
     "start_time": "2022-09-18T20:56:38.931115",
     "status": "completed"
    },
    "tags": []
   },
   "source": [
    "### Random Forest - Count Vectors"
   ]
  },
  {
   "cell_type": "code",
   "execution_count": 29,
   "id": "066043f0",
   "metadata": {
    "execution": {
     "iopub.execute_input": "2022-09-18T20:56:38.991051Z",
     "iopub.status.busy": "2022-09-18T20:56:38.990603Z",
     "iopub.status.idle": "2022-09-18T20:59:00.722360Z",
     "shell.execute_reply": "2022-09-18T20:59:00.720542Z"
    },
    "papermill": {
     "duration": 141.773979,
     "end_time": "2022-09-18T20:59:00.743465",
     "exception": false,
     "start_time": "2022-09-18T20:56:38.969486",
     "status": "completed"
    },
    "tags": []
   },
   "outputs": [
    {
     "name": "stdout",
     "output_type": "stream",
     "text": [
      "Random Forest Classifier on Count Vectors: 0.7772582635236054\n"
     ]
    }
   ],
   "source": [
    "rf1 = RandomForestClassifier()\n",
    "rf1.fit(X_train_count, y_train)\n",
    "rf_cv = rf1.score(X_test_count, y_test)\n",
    "print(f'Random Forest Classifier on Count Vectors: {rf_cv}')"
   ]
  },
  {
   "cell_type": "markdown",
   "id": "b56b0117",
   "metadata": {
    "papermill": {
     "duration": 0.017963,
     "end_time": "2022-09-18T20:59:00.779979",
     "exception": false,
     "start_time": "2022-09-18T20:59:00.762016",
     "status": "completed"
    },
    "tags": []
   },
   "source": [
    "### Random Forest - TF-IDF"
   ]
  },
  {
   "cell_type": "code",
   "execution_count": 30,
   "id": "78de1dba",
   "metadata": {
    "execution": {
     "iopub.execute_input": "2022-09-18T20:59:00.818369Z",
     "iopub.status.busy": "2022-09-18T20:59:00.817971Z",
     "iopub.status.idle": "2022-09-18T21:02:20.249364Z",
     "shell.execute_reply": "2022-09-18T21:02:20.248156Z"
    },
    "papermill": {
     "duration": 199.471881,
     "end_time": "2022-09-18T21:02:20.270572",
     "exception": false,
     "start_time": "2022-09-18T20:59:00.798691",
     "status": "completed"
    },
    "tags": []
   },
   "outputs": [
    {
     "name": "stdout",
     "output_type": "stream",
     "text": [
      "Random Forest Classifier on TF-IDF Vectors: 0.7519319436327034\n"
     ]
    }
   ],
   "source": [
    "rf2 = RandomForestClassifier()\n",
    "rf2.fit(X_train_tfidf, y_train)\n",
    "rf_tfidf = rf2.score(X_test_tfidf, y_test)\n",
    "print(f'Random Forest Classifier on TF-IDF Vectors: {rf_tfidf}')"
   ]
  },
  {
   "cell_type": "markdown",
   "id": "53b850b7",
   "metadata": {
    "papermill": {
     "duration": 0.018245,
     "end_time": "2022-09-18T21:02:20.307505",
     "exception": false,
     "start_time": "2022-09-18T21:02:20.289260",
     "status": "completed"
    },
    "tags": []
   },
   "source": [
    "### MultinomialNB - Count Vectors"
   ]
  },
  {
   "cell_type": "code",
   "execution_count": 31,
   "id": "c28ab1a7",
   "metadata": {
    "execution": {
     "iopub.execute_input": "2022-09-18T21:02:20.346607Z",
     "iopub.status.busy": "2022-09-18T21:02:20.345934Z",
     "iopub.status.idle": "2022-09-18T21:02:20.373555Z",
     "shell.execute_reply": "2022-09-18T21:02:20.372323Z"
    },
    "papermill": {
     "duration": 0.050315,
     "end_time": "2022-09-18T21:02:20.376288",
     "exception": false,
     "start_time": "2022-09-18T21:02:20.325973",
     "status": "completed"
    },
    "tags": []
   },
   "outputs": [
    {
     "name": "stdout",
     "output_type": "stream",
     "text": [
      "Multinomial Naive Bayes Classifier on Count Vectors: 0.7755049029157738\n"
     ]
    }
   ],
   "source": [
    "mnb1 = MultinomialNB()\n",
    "mnb1.fit(X_train_count, y_train)\n",
    "mnb_cv = mnb1.score(X_test_count, y_test)\n",
    "print(f'Multinomial Naive Bayes Classifier on Count Vectors: {mnb_cv}')"
   ]
  },
  {
   "cell_type": "markdown",
   "id": "92f0b336",
   "metadata": {
    "papermill": {
     "duration": 0.017428,
     "end_time": "2022-09-18T21:02:20.412425",
     "exception": false,
     "start_time": "2022-09-18T21:02:20.394997",
     "status": "completed"
    },
    "tags": []
   },
   "source": [
    "### MultinomialNB - TF-IDF"
   ]
  },
  {
   "cell_type": "code",
   "execution_count": 32,
   "id": "95adcb3b",
   "metadata": {
    "execution": {
     "iopub.execute_input": "2022-09-18T21:02:20.450066Z",
     "iopub.status.busy": "2022-09-18T21:02:20.449654Z",
     "iopub.status.idle": "2022-09-18T21:02:20.535373Z",
     "shell.execute_reply": "2022-09-18T21:02:20.533963Z"
    },
    "papermill": {
     "duration": 0.107472,
     "end_time": "2022-09-18T21:02:20.538075",
     "exception": false,
     "start_time": "2022-09-18T21:02:20.430603",
     "status": "completed"
    },
    "tags": []
   },
   "outputs": [
    {
     "name": "stdout",
     "output_type": "stream",
     "text": [
      "Multinomial Naive Bayes Classifier on TF-IDF Vectors: 0.7555685434119098\n"
     ]
    }
   ],
   "source": [
    "mnb2 = MultinomialNB()\n",
    "mnb2.fit(X_train_tfidf, y_train)\n",
    "mnb_tfidf = mnb2.score(X_test_tfidf, y_test)\n",
    "print(f'Multinomial Naive Bayes Classifier on TF-IDF Vectors: {mnb_tfidf}')"
   ]
  },
  {
   "cell_type": "markdown",
   "id": "ef07e566",
   "metadata": {
    "papermill": {
     "duration": 0.017437,
     "end_time": "2022-09-18T21:02:20.573417",
     "exception": false,
     "start_time": "2022-09-18T21:02:20.555980",
     "status": "completed"
    },
    "tags": []
   },
   "source": [
    "## Model Results"
   ]
  },
  {
   "cell_type": "code",
   "execution_count": 33,
   "id": "87a0f50a",
   "metadata": {
    "execution": {
     "iopub.execute_input": "2022-09-18T21:02:20.611067Z",
     "iopub.status.busy": "2022-09-18T21:02:20.610673Z",
     "iopub.status.idle": "2022-09-18T21:02:20.624038Z",
     "shell.execute_reply": "2022-09-18T21:02:20.622753Z"
    },
    "papermill": {
     "duration": 0.035167,
     "end_time": "2022-09-18T21:02:20.626261",
     "exception": false,
     "start_time": "2022-09-18T21:02:20.591094",
     "status": "completed"
    },
    "tags": []
   },
   "outputs": [
    {
     "data": {
      "text/html": [
       "<div>\n",
       "<style scoped>\n",
       "    .dataframe tbody tr th:only-of-type {\n",
       "        vertical-align: middle;\n",
       "    }\n",
       "\n",
       "    .dataframe tbody tr th {\n",
       "        vertical-align: top;\n",
       "    }\n",
       "\n",
       "    .dataframe thead th {\n",
       "        text-align: right;\n",
       "    }\n",
       "</style>\n",
       "<table border=\"1\" class=\"dataframe\">\n",
       "  <thead>\n",
       "    <tr style=\"text-align: right;\">\n",
       "      <th></th>\n",
       "      <th>Model</th>\n",
       "      <th>Score</th>\n",
       "    </tr>\n",
       "  </thead>\n",
       "  <tbody>\n",
       "    <tr>\n",
       "      <th>0</th>\n",
       "      <td>RandomForestClassifier-CountVectors</td>\n",
       "      <td>0.777258</td>\n",
       "    </tr>\n",
       "    <tr>\n",
       "      <th>1</th>\n",
       "      <td>RandomForestClassifier-TFIDFVectors</td>\n",
       "      <td>0.751932</td>\n",
       "    </tr>\n",
       "    <tr>\n",
       "      <th>2</th>\n",
       "      <td>MultinomialNBClassifier-CountVectors</td>\n",
       "      <td>0.775505</td>\n",
       "    </tr>\n",
       "    <tr>\n",
       "      <th>3</th>\n",
       "      <td>MultinomialNBClassifier-TFIDFVectors</td>\n",
       "      <td>0.755569</td>\n",
       "    </tr>\n",
       "  </tbody>\n",
       "</table>\n",
       "</div>"
      ],
      "text/plain": [
       "                                  Model     Score\n",
       "0   RandomForestClassifier-CountVectors  0.777258\n",
       "1   RandomForestClassifier-TFIDFVectors  0.751932\n",
       "2  MultinomialNBClassifier-CountVectors  0.775505\n",
       "3  MultinomialNBClassifier-TFIDFVectors  0.755569"
      ]
     },
     "execution_count": 33,
     "metadata": {},
     "output_type": "execute_result"
    }
   ],
   "source": [
    "model = {'Model':['RandomForestClassifier-CountVectors', \n",
    "                  'RandomForestClassifier-TFIDFVectors', \n",
    "                  'MultinomialNBClassifier-CountVectors',\n",
    "                  'MultinomialNBClassifier-TFIDFVectors'],\n",
    "         'Score':[rf_cv, rf_tfidf, mnb_cv, mnb_tfidf]\n",
    "         }\n",
    "model_df = pd.DataFrame(model)\n",
    "model_df"
   ]
  },
  {
   "cell_type": "code",
   "execution_count": 34,
   "id": "dab10d8e",
   "metadata": {
    "execution": {
     "iopub.execute_input": "2022-09-18T21:02:20.665328Z",
     "iopub.status.busy": "2022-09-18T21:02:20.664939Z",
     "iopub.status.idle": "2022-09-18T21:02:20.967304Z",
     "shell.execute_reply": "2022-09-18T21:02:20.966078Z"
    },
    "papermill": {
     "duration": 0.325765,
     "end_time": "2022-09-18T21:02:20.970128",
     "exception": false,
     "start_time": "2022-09-18T21:02:20.644363",
     "status": "completed"
    },
    "tags": []
   },
   "outputs": [
    {
     "data": {
      "image/png": "[encoded data removed]",
      "text/plain": [
       "<Figure size 720x504 with 1 Axes>"
      ]
     },
     "metadata": {},
     "output_type": "display_data"
    }
   ],
   "source": [
    "sns.barplot(data=model_df, y='Model', x='Score')\n",
    "plt.ylabel('')\n",
    "plt.show()"
   ]
  },
  {
   "cell_type": "markdown",
   "id": "1c2b4597",
   "metadata": {
    "papermill": {
     "duration": 0.020062,
     "end_time": "2022-09-18T21:02:21.009914",
     "exception": false,
     "start_time": "2022-09-18T21:02:20.989852",
     "status": "completed"
    },
    "tags": []
   },
   "source": [
    "## Prediction"
   ]
  },
  {
   "cell_type": "code",
   "execution_count": 35,
   "id": "8bdd09cf",
   "metadata": {
    "execution": {
     "iopub.execute_input": "2022-09-18T21:02:21.051490Z",
     "iopub.status.busy": "2022-09-18T21:02:21.051099Z",
     "iopub.status.idle": "2022-09-18T21:02:21.058208Z",
     "shell.execute_reply": "2022-09-18T21:02:21.057244Z"
    },
    "papermill": {
     "duration": 0.030053,
     "end_time": "2022-09-18T21:02:21.060820",
     "exception": false,
     "start_time": "2022-09-18T21:02:21.030767",
     "status": "completed"
    },
    "tags": []
   },
   "outputs": [],
   "source": [
    "test_reviews = ['This is a great app!', 'Uncomfortable UI, always lagging', 'I like the song selection, but the ads are annoying']\n",
    "pred = mnb1.predict(cv.transform(test_reviews))\n",
    "pred_transformed = le.inverse_transform(pred).tolist()"
   ]
  },
  {
   "cell_type": "code",
   "execution_count": 36,
   "id": "5fcc99ea",
   "metadata": {
    "execution": {
     "iopub.execute_input": "2022-09-18T21:02:21.101763Z",
     "iopub.status.busy": "2022-09-18T21:02:21.100959Z",
     "iopub.status.idle": "2022-09-18T21:02:21.115906Z",
     "shell.execute_reply": "2022-09-18T21:02:21.114751Z"
    },
    "papermill": {
     "duration": 0.038368,
     "end_time": "2022-09-18T21:02:21.118943",
     "exception": false,
     "start_time": "2022-09-18T21:02:21.080575",
     "status": "completed"
    },
    "tags": []
   },
   "outputs": [
    {
     "data": {
      "text/html": [
       "<div>\n",
       "<style scoped>\n",
       "    .dataframe tbody tr th:only-of-type {\n",
       "        vertical-align: middle;\n",
       "    }\n",
       "\n",
       "    .dataframe tbody tr th {\n",
       "        vertical-align: top;\n",
       "    }\n",
       "\n",
       "    .dataframe thead th {\n",
       "        text-align: right;\n",
       "    }\n",
       "</style>\n",
       "<table border=\"1\" class=\"dataframe\">\n",
       "  <thead>\n",
       "    <tr style=\"text-align: right;\">\n",
       "      <th></th>\n",
       "      <th>Reviews</th>\n",
       "      <th>Outcome</th>\n",
       "    </tr>\n",
       "  </thead>\n",
       "  <tbody>\n",
       "    <tr>\n",
       "      <th>0</th>\n",
       "      <td>This is a great app!</td>\n",
       "      <td>Good</td>\n",
       "    </tr>\n",
       "    <tr>\n",
       "      <th>1</th>\n",
       "      <td>Uncomfortable UI, always lagging</td>\n",
       "      <td>Bad</td>\n",
       "    </tr>\n",
       "    <tr>\n",
       "      <th>2</th>\n",
       "      <td>I like the song selection, but the ads are ann...</td>\n",
       "      <td>Neutral</td>\n",
       "    </tr>\n",
       "  </tbody>\n",
       "</table>\n",
       "</div>"
      ],
      "text/plain": [
       "                                             Reviews  Outcome\n",
       "0                               This is a great app!     Good\n",
       "1                   Uncomfortable UI, always lagging      Bad\n",
       "2  I like the song selection, but the ads are ann...  Neutral"
      ]
     },
     "execution_count": 36,
     "metadata": {},
     "output_type": "execute_result"
    }
   ],
   "source": [
    "result = pd.DataFrame({'Reviews':test_reviews, \n",
    "                       'Outcome': pred_transformed})\n",
    "result"
   ]
  }
 ],
 "metadata": {
  "kernelspec": {
   "display_name": "venv",
   "language": "python",
   "name": "python3"
  },
  "language_info": {
   "codemirror_mode": {
    "name": "ipython",
    "version": 3
   },
   "file_extension": ".py",
   "mimetype": "text/x-python",
   "name": "python",
   "nbconvert_exporter": "python",
   "pygments_lexer": "ipython3",
   "version": "3.10.0 (tags/v3.10.0:b494f59, Oct  4 2021, 19:00:18) [MSC v.1929 64 bit (AMD64)]"
  },
  "papermill": {
   "default_parameters": {},
   "duration": 391.958926,
   "end_time": "2022-09-18T21:02:22.363665",
   "environment_variables": {},
   "exception": null,
   "input_path": "__notebook__.ipynb",
   "output_path": "__notebook__.ipynb",
   "parameters": {},
   "start_time": "2022-09-18T20:55:50.404739",
   "version": "2.3.4"
  },
  "vscode": {
   "interpreter": {
    "hash": "a714370c984e27d23d8f1800ec77ef8829cc4511e12b71f59323a9f882743fff"
   }
  }
 },
 "nbformat": 4,
 "nbformat_minor": 5
}
